{
 "cells": [
  {
   "attachments": {},
   "cell_type": "markdown",
   "id": "be0f83d0",
   "metadata": {},
   "source": [
    "# 第3回: 課題レポート（参考）\n",
    "作成日：2025/6/16  \n",
    "作成者：相澤宏旭  \n",
    "\n",
    "この課題レポートは参考例です．Jupyter Notebookを用いて作成しました．作成方法はGoogle Colab，Markdown，VSCode，TeXなど指定はしませんが，課題内容と解答がわかるように .pdf形式で提出してください．またレポートのフォーマットも指定しません．\n",
    "\n",
    "---\n",
    "\n",
    "**課題内容**：  \n",
    "\n",
    "直接積分形で解く微分方程式の問題を **一問** 作問せよ．\n",
    "そして，その問題の解答例を数式とSympyの両方で作成せよ．\n",
    "\n",
    "なお，作成する問題の難易度は指定しない．また，必要なSympyの機能があれば講義で紹介していなくとも利用しても良い．\n"
   ]
  },
  {
   "attachments": {},
   "cell_type": "markdown",
   "id": "889a9dc7",
   "metadata": {},
   "source": [
    "## 問題例\n",
    "**問題**： 次の微分方程式の一般解を直接積分形で求めよ．\n",
    "\n",
    "$$\n",
    "\\begin{align}\n",
    "\\frac{dy}{dx} = - x + 2\n",
    "\\end{align}\n",
    "$$\n",
    "\n",
    "**解答**：  \n",
    "まず，両辺に $dx$ をかけて次のように書き換える\n",
    "\n",
    "$$\n",
    "\\begin{align}\n",
    "d y &=(-x+2) d x\n",
    "\\end{align}\n",
    "$$\n",
    "\n",
    "これより，両辺を積分すると\n",
    "\n",
    "$$\n",
    "\\begin{align}\n",
    "\\int 1 d y&=\\int(-x+2) d x \\\\\n",
    "y&=-\\frac{x^2}{2}+2 x+C\n",
    "\\end{align}\n",
    "$$\n",
    "\n",
    "という一般解が得られる．ここで $C$ は積分定数である．\n"
   ]
  },
  {
   "attachments": {},
   "cell_type": "markdown",
   "id": "be194c4f",
   "metadata": {},
   "source": [
    "これをSympyで実装し，解答を確認する．"
   ]
  },
  {
   "cell_type": "code",
   "execution_count": 1,
   "id": "da958973",
   "metadata": {},
   "outputs": [
    {
     "data": {
      "text/latex": [
       "$\\displaystyle y{\\left(x \\right)} = C_{1} - \\frac{x^{2}}{2} + 2 x$"
      ],
      "text/plain": [
       "Eq(y(x), C1 - x**2/2 + 2*x)"
      ]
     },
     "execution_count": 1,
     "metadata": {},
     "output_type": "execute_result"
    }
   ],
   "source": [
    "from sympy import symbols, Eq, Derivative, Function, dsolve\n",
    "\n",
    "x = symbols('x')\n",
    "y = Function('y')(x)\n",
    "\n",
    "dy = Derivative(y, x)\n",
    "\n",
    "eq = Eq(dy, -x + 2)\n",
    "y_ = dsolve(eq, y)\n",
    "y_"
   ]
  },
  {
   "cell_type": "code",
   "execution_count": null,
   "id": "9b6c965c",
   "metadata": {},
   "outputs": [],
   "source": []
  }
 ],
 "metadata": {
  "kernelspec": {
   "display_name": "ml-py39",
   "language": "python",
   "name": "python3"
  },
  "language_info": {
   "codemirror_mode": {
    "name": "ipython",
    "version": 3
   },
   "file_extension": ".py",
   "mimetype": "text/x-python",
   "name": "python",
   "nbconvert_exporter": "python",
   "pygments_lexer": "ipython3",
   "version": "3.9.20"
  }
 },
 "nbformat": 4,
 "nbformat_minor": 5
}
