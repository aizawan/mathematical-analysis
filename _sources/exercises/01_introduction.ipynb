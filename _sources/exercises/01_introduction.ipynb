{
 "cells": [
  {
   "attachments": {},
   "cell_type": "markdown",
   "id": "be0f83d0",
   "metadata": {},
   "source": [
    "# 第1回：課題レポート（参考）\n",
    "作成日：2025/6/9  \n",
    "作成者：相澤宏旭  \n",
    "\n",
    "この課題レポートは参考例です．Jupyter Notebookを用いて作成しました．作成方法はGoogle Colab，Markdown，VSCode，TeXなど指定はしませんが，課題内容と解答がわかるように .pdf形式で提出してください．またレポートのフォーマットも指定しません．\n",
    "\n",
    "---\n",
    "\n",
    "**課題内容**：  \n",
    "pythonの環境を構築し，sympyに関する機能を一つ調べて，実行方法と実行結果とともにまとめよ．\n",
    "\n",
    "---\n",
    "\n",
    "**解答**：  \n",
    "逆行列の計算をsympyで行った．はじめに，逆行列とは以下で定義される行列である．\n",
    "\n",
    "定義：正方行列 $\\boldsymbol{A} \\in \\mathbb{R}^{n \\times n}$ について，$\\boldsymbol{A B}=\\boldsymbol{I}_n=\\boldsymbol{B} \\boldsymbol{A}$ を満たすような正方行列 $\\boldsymbol{B} \\in \\mathbb{R}^{n \\times n}$ を行列 $\\boldsymbol{A}$ の逆行列 $\\boldsymbol{A}^{-1}$ と呼ぶ．\n",
    "\n",
    "まず $2 \\times 2$ の行列をsympyで定義する．"
   ]
  },
  {
   "cell_type": "code",
   "execution_count": null,
   "id": "3b37b7d6",
   "metadata": {},
   "outputs": [],
   "source": [
    "from sympy import symbols, Matrix\n",
    "\n",
    "a11, a12, a21, a22 = symbols('a11, a12, a21, a22')\n",
    "\n",
    "A = Matrix([\n",
    "    [a11,a12],\n",
    "    [a21,a22]])\n",
    "A"
   ]
  },
  {
   "attachments": {},
   "cell_type": "markdown",
   "id": "568191bd",
   "metadata": {},
   "source": [
    "逆行列は次のように計算できる．"
   ]
  },
  {
   "cell_type": "code",
   "execution_count": null,
   "id": "ae44382d",
   "metadata": {},
   "outputs": [],
   "source": [
    "A.inv()"
   ]
  },
  {
   "attachments": {},
   "cell_type": "markdown",
   "id": "b755c7d2",
   "metadata": {},
   "source": [
    "行列式は以下のように計算できるのでこれは逆行列の式\n",
    "\n",
    "$$\n",
    "A^{-1}=\\frac{1}{\\operatorname{det}(A)} \\cdot\\left(\\begin{array}{cc}\n",
    "a_{22} & -a_{12} \\\\\n",
    "-a_{21} & a_{11}\n",
    "\\end{array}\\right)\n",
    "$$\n",
    "\n",
    "そのものである．"
   ]
  },
  {
   "cell_type": "code",
   "execution_count": null,
   "id": "34d49205",
   "metadata": {},
   "outputs": [],
   "source": [
    "A.det()"
   ]
  },
  {
   "attachments": {},
   "cell_type": "markdown",
   "id": "1d0dc996",
   "metadata": {},
   "source": [
    "ただし，行列式が0でないときに限る．\n",
    "\n",
    "**参考文献**\n",
    "- https://docs.sympy.org/latest/modules/matrices/matrices.html#sympy.matrices.matrixbase.MatrixBase.inv\n",
    "- https://mml-book.github.io"
   ]
  }
 ],
 "metadata": {
  "kernelspec": {
   "display_name": "ml",
   "language": "python",
   "name": "python3"
  },
  "language_info": {
   "codemirror_mode": {
    "name": "ipython",
    "version": 3
   },
   "file_extension": ".py",
   "mimetype": "text/x-python",
   "name": "python",
   "nbconvert_exporter": "python",
   "pygments_lexer": "ipython3",
   "version": "3.9.13"
  },
  "vscode": {
   "interpreter": {
    "hash": "c558876ffd71b3528bcdaaa45c5eeebe18905a0bd68c09a6b765c00e31df719e"
   }
  }
 },
 "nbformat": 4,
 "nbformat_minor": 5
}
