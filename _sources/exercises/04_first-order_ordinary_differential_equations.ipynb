{
 "cells": [
  {
   "attachments": {},
   "cell_type": "markdown",
   "id": "be0f83d0",
   "metadata": {},
   "source": [
    "# 第4回: 課題レポート（参考）\n",
    "作成日：2025/6/19  \n",
    "作成者：相澤宏旭  \n",
    "\n",
    "この課題レポートは参考例です．Jupyter Notebookを用いて作成しました．作成方法はGoogle Colab，Markdown，VSCode，TeXなど指定はしませんが，課題内容と解答がわかるように .pdf形式で提出してください．またレポートのフォーマットも指定しません．\n",
    "\n",
    "---\n",
    "\n",
    "**課題内容**：  \n",
    "\n",
    "課題1:  \n",
    "変数分離法で解く微分方程式の問題を **一問** 作問せよ．\n",
    "そして，その問題の解答例を数式とSympyの両方で作成せよ．\n",
    "\n",
    "課題2:  \n",
    "同次微分方程式の問題を **一問** 作問せよ．\n",
    "そして，その問題の解答例を数式とSympyの両方で作成せよ．\n"
   ]
  },
  {
   "attachments": {},
   "cell_type": "markdown",
   "id": "44290c06",
   "metadata": {},
   "source": [
    "## 課題1の例\n",
    "\n",
    "次の微分方程式の一般解を求めよ．\n",
    "\n",
    "$$\n",
    "\\begin{align}\n",
    "\\frac{dy}{dx} = xy\n",
    "\\end{align}\n",
    "$$"
   ]
  },
  {
   "cell_type": "markdown",
   "id": "b5d7d18d",
   "metadata": {},
   "source": [
    "与えられた微分方程式は\n",
    "\n",
    "$$\n",
    "\\frac{dy}{dx} = xy\n",
    "$$\n",
    "\n",
    "である．これは $x$ と $y$ の変数が分離できる変数分離形の一階常微分方程式であるため，変数分離の手法で解くことができる．\n",
    "\n",
    "まず，両辺に $dx$ をかける．\n",
    "\n",
    "$$\n",
    "dy = x y\\, dx\n",
    "$$\n",
    "\n",
    "つづいて，$y \\ne 0$ の範囲で両辺を $y$ で割る．ただし $y$ は恒等的に0ではないとする．\n",
    "\n",
    "$$\n",
    "\\frac{1}{y} dy = x\\, dx\n",
    "$$\n",
    "\n",
    "この両辺を積分すると\n",
    "\n",
    "$$\n",
    "\\int \\frac{1}{y} dy = \\int x\\, dx\n",
    "$$\n",
    "\n",
    "よって，\n",
    "\n",
    "$$\n",
    "\\ln|y| = \\frac{x^2}{2} + C\n",
    "$$\n",
    "\n",
    "両辺の指数を取って，$y$ を解く．\n",
    "\n",
    "$$\n",
    "|y| = e^{\\frac{x^2}{2} + C} = e^C \\cdot e^{x^2/2}\n",
    "$$\n",
    "\n",
    "ここで $\\pm e^C$ を任意定数 $C'$ とおくことで，\n",
    "\n",
    "$$\n",
    "y = C' e^{x^2/2}\n",
    "$$\n",
    "\n",
    "これがこの微分方程式の一般解である．"
   ]
  },
  {
   "cell_type": "code",
   "execution_count": 1,
   "id": "13618877",
   "metadata": {},
   "outputs": [
    {
     "data": {
      "text/latex": [
       "$\\displaystyle \\frac{d}{d x} y{\\left(x \\right)} = x y{\\left(x \\right)}$"
      ],
      "text/plain": [
       "Eq(Derivative(y(x), x), x*y(x))"
      ]
     },
     "metadata": {},
     "output_type": "display_data"
    },
    {
     "data": {
      "text/latex": [
       "$\\displaystyle y{\\left(x \\right)} = C_{1} e^{\\frac{x^{2}}{2}}$"
      ],
      "text/plain": [
       "Eq(y(x), C1*exp(x**2/2))"
      ]
     },
     "metadata": {},
     "output_type": "display_data"
    }
   ],
   "source": [
    "from sympy import symbols, Eq, Derivative, Function, dsolve\n",
    "\n",
    "x = symbols('x')\n",
    "y = Function('y')(x)\n",
    "\n",
    "dy = Derivative(y, x)\n",
    "\n",
    "eq = Eq(dy, x * y)\n",
    "y_ = dsolve(eq, y)\n",
    "display(eq)\n",
    "display(y_) "
   ]
  },
  {
   "attachments": {},
   "cell_type": "markdown",
   "id": "133932d8",
   "metadata": {},
   "source": [
    "## 課題2の例\n",
    "次の微分方程式の一般解を求めよ．\n",
    "\n",
    "$$\n",
    "\\begin{align}\n",
    "\\frac{dy}{dx} = \\frac{x+y}{x}\n",
    "\\end{align}\n",
    "$$"
   ]
  },
  {
   "cell_type": "markdown",
   "id": "ecfa6c95",
   "metadata": {},
   "source": [
    "与えられた微分方程式について\n",
    "\n",
    "$$\n",
    "\\frac{dy}{dx} = \\frac{x + y}{x}\n",
    "$$\n",
    "\n",
    "まず右辺を項ごとに分けて整理すると\n",
    "\n",
    "$$\n",
    "\\frac{dy}{dx} = 1 + \\frac{y}{x}\n",
    "$$\n",
    "\n",
    "これは同次形微分方程式である．そこで，$u = \\frac{y}{x}$ と変数変換する．このとき、$dy/dx$ は積の微分により，\n",
    "\n",
    "$$\n",
    "\\frac{dy}{dx} = u + x \\frac{du}{dx}\n",
    "$$\n",
    "\n",
    "整理すると，\n",
    "\n",
    "$$\n",
    "\\begin{aligned}\n",
    "u + x \\frac{du}{dx} &= 1 + u \\\\\n",
    "x \\frac{du}{dx} &= 1\n",
    "\\end{aligned}\n",
    "$$\n",
    "\n",
    "これは $u$ と $x$ の変数分離形になっているので，両辺を $x$ で割ると\n",
    "\n",
    "$$\n",
    "\\frac{du}{dx} = \\frac{1}{x}\n",
    "$$\n",
    "\n",
    "両辺を積分する\n",
    "\n",
    "$$\n",
    "\\int du = \\int \\frac{1}{x} dx\n",
    "$$\n",
    "\n",
    "このとき、左辺の積分定数を $C_1$，右辺を $C_2$ としてもよいが，両辺をまとめて一つの任意定数 $C = C_2 - C_1$ とおいて\n",
    "\n",
    "$$\n",
    "u = \\log |x| + C\n",
    "$$\n",
    "\n",
    "$u = \\frac{y}{x}$ だったので，これを戻すと\n",
    "\n",
    "$$\n",
    "\\frac{y}{x} = \\log |x| + C\n",
    "$$\n",
    "\n",
    "両辺に $x$ をかけて整理すると一般解が得られる．\n",
    "\n",
    "$$\n",
    "y = x \\log |x| + Cx\n",
    "$$"
   ]
  },
  {
   "cell_type": "code",
   "execution_count": 2,
   "id": "21545059",
   "metadata": {},
   "outputs": [
    {
     "data": {
      "text/latex": [
       "$\\displaystyle \\frac{d}{d x} y{\\left(x \\right)} = \\frac{x + y{\\left(x \\right)}}{x}$"
      ],
      "text/plain": [
       "Eq(Derivative(y(x), x), (x + y(x))/x)"
      ]
     },
     "metadata": {},
     "output_type": "display_data"
    },
    {
     "data": {
      "text/latex": [
       "$\\displaystyle y{\\left(x \\right)} = x \\left(C_{1} + \\log{\\left(x \\right)}\\right)$"
      ],
      "text/plain": [
       "Eq(y(x), x*(C1 + log(x)))"
      ]
     },
     "metadata": {},
     "output_type": "display_data"
    }
   ],
   "source": [
    "from sympy import symbols, Eq, Derivative, Function, dsolve\n",
    "\n",
    "x = symbols('x')\n",
    "y = Function('y')(x)\n",
    "\n",
    "dy = Derivative(y, x)\n",
    "eq = Eq(dy, (x + y)/x)\n",
    "\n",
    "y_ = dsolve(eq, y)\n",
    "display(eq)\n",
    "display(y_)"
   ]
  }
 ],
 "metadata": {
  "kernelspec": {
   "display_name": "Python 3 (ipykernel)",
   "language": "python",
   "name": "python3"
  },
  "language_info": {
   "codemirror_mode": {
    "name": "ipython",
    "version": 3
   },
   "file_extension": ".py",
   "mimetype": "text/x-python",
   "name": "python",
   "nbconvert_exporter": "python",
   "pygments_lexer": "ipython3",
   "version": "3.9.20"
  }
 },
 "nbformat": 4,
 "nbformat_minor": 5
}
