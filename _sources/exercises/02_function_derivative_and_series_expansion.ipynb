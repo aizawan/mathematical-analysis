{
 "cells": [
  {
   "attachments": {},
   "cell_type": "markdown",
   "id": "be0f83d0",
   "metadata": {},
   "source": [
    "# 第2回: 課題レポート（参考）\n",
    "作成日：2025/6/12  \n",
    "作成者：相澤宏旭  \n",
    "\n",
    "この課題レポートは参考例です．Jupyter Notebookを用いて作成しました．作成方法はGoogle Colab，Markdown，VSCode，TeXなど指定はしませんが，課題内容と解答がわかるように .pdf形式で提出してください．またレポートのフォーマットも指定しません．\n",
    "\n",
    "---\n",
    "\n",
    "**課題内容**：  \n",
    "線形代数・解析学などこれまで学んだ大学数学の範囲内で，作問せよ．\n",
    "そして，その問題の解答例を数式とSympyの両方で作成せよ．\n",
    "\n",
    "なお，作成する問題の難易度や範囲は指定しない．また，必要なSympyの機能があれば講義で紹介していなくとも利用しても良い．\n"
   ]
  },
  {
   "attachments": {},
   "cell_type": "markdown",
   "id": "61a98ef9",
   "metadata": {},
   "source": [
    "## 解答\n",
    "\n",
    "**作成した問題:** $f(x)=\\sin(x)$ をマクローリン展開せよ．\n",
    "\n",
    "\n",
    "**解答例:**\n",
    "\n",
    "マクローリン級数は以下で与えられる．\n",
    "\n",
    "$$\n",
    "\\begin{align}\n",
    "f(x)=f(0)+\\frac{f^{\\prime}(0)}{1!} x+\\frac{f^{\\prime \\prime}(0)}{2!} x^2+\\frac{f^{\\prime \\prime \\prime}(0)}{3!} x^3+\\cdots\n",
    "\\end{align}\n",
    "$$\n",
    "\n",
    "各項に対して，$\\sin(x)$の導関数を代入すると次のようになる．\n",
    "\n",
    "$$\n",
    "\\begin{align}\n",
    "\\sin (x) & =0+\\frac{1}{1!} x+\\frac{0}{2!} x^2+\\frac{-1}{3!} x^3+\\frac{0}{4!} x^4+\\cdots \\\\\n",
    "& =x-\\frac{x^3}{3!}+\\frac{x^5}{5!}-\\frac{x^7}{7!}+\\cdots\n",
    "\\end{align}\n",
    "$$\n"
   ]
  },
  {
   "attachments": {},
   "cell_type": "markdown",
   "id": "f3dc06b1",
   "metadata": {},
   "source": [
    "これをSympyでも確認する．"
   ]
  },
  {
   "cell_type": "code",
   "execution_count": 1,
   "id": "e304577d",
   "metadata": {},
   "outputs": [
    {
     "data": {
      "text/latex": [
       "$\\displaystyle x - \\frac{x^{3}}{6} + \\frac{x^{5}}{120} - \\frac{x^{7}}{5040} + \\frac{x^{9}}{362880} + O\\left(x^{10}\\right)$"
      ],
      "text/plain": [
       "x - x**3/6 + x**5/120 - x**7/5040 + x**9/362880 + O(x**10)"
      ]
     },
     "execution_count": 1,
     "metadata": {},
     "output_type": "execute_result"
    }
   ],
   "source": [
    "from sympy import symbols, sin, series\n",
    "x = symbols('x')\n",
    "f = sin(x)\n",
    "f_ = series(f, x, 0, 10)\n",
    "f_"
   ]
  },
  {
   "cell_type": "markdown",
   "id": "dc9f5195",
   "metadata": {},
   "source": [
    "なお，級数を計算するにあたり，`series` を利用した．また `factorial` を使うと，階乗が計算できる．そのため，次のようにも実装できる．"
   ]
  },
  {
   "cell_type": "code",
   "execution_count": 2,
   "id": "851eebc1",
   "metadata": {},
   "outputs": [
    {
     "data": {
      "text/latex": [
       "$\\displaystyle \\frac{x^{9}}{362880} - \\frac{x^{7}}{5040} + \\frac{x^{5}}{120} - \\frac{x^{3}}{6} + x$"
      ],
      "text/plain": [
       "x**9/362880 - x**7/5040 + x**5/120 - x**3/6 + x"
      ]
     },
     "execution_count": 2,
     "metadata": {},
     "output_type": "execute_result"
    }
   ],
   "source": [
    "from sympy import factorial\n",
    "\n",
    "n_terms = 5\n",
    "f = 0\n",
    "for k in range(n_terms):\n",
    "    term = ((-1)**k) * x**(2*k+1) / factorial(2*k+1)\n",
    "    f = f + term\n",
    "f"
   ]
  },
  {
   "cell_type": "code",
   "execution_count": null,
   "id": "18a612fa-9e08-4c20-9068-bdb33cb76622",
   "metadata": {},
   "outputs": [],
   "source": []
  }
 ],
 "metadata": {
  "kernelspec": {
   "display_name": "ml-py39",
   "language": "python",
   "name": "python3"
  },
  "language_info": {
   "codemirror_mode": {
    "name": "ipython",
    "version": 3
   },
   "file_extension": ".py",
   "mimetype": "text/x-python",
   "name": "python",
   "nbconvert_exporter": "python",
   "pygments_lexer": "ipython3",
   "version": "3.9.20"
  }
 },
 "nbformat": 4,
 "nbformat_minor": 5
}
